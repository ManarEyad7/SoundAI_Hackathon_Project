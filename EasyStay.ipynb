{
  "nbformat": 4,
  "nbformat_minor": 0,
  "metadata": {
    "colab": {
      "provenance": []
    },
    "kernelspec": {
      "name": "python3",
      "display_name": "Python 3"
    },
    "language_info": {
      "name": "python"
    }
  },
  "cells": [
    {
      "cell_type": "code",
      "source": [
        "import speech_recognition as sr\n",
        "import pyttsx3\n",
        "import pyperclip\n",
        "import pyautogui\n",
        "from tkinter import *\n",
        "import tkinter.font as font"
      ],
      "metadata": {
        "id": "FLKHfnvJajto"
      },
      "execution_count": null,
      "outputs": []
    },
    {
      "cell_type": "code",
      "source": [
        "def speak(text):\n",
        "    engine = pyttsx3.init()\n",
        "    voice_id = \"english\"  # Set the voice to English\n",
        "    engine.setProperty('voice', voice_id)\n",
        "    engine.setProperty('rate', 150)  # Set the speech rate\n",
        "    engine.setProperty('volume', 1)  # Set the volume level\n",
        "    engine.say(text)\n",
        "    engine.runAndWait()\n",
        "\n",
        "def process_command(command):\n",
        "    if \"order food\" in command:\n",
        "        # Code to process food order\n",
        "        order = \"Your food order has been placed. It will be delivered to your room shortly.\"\n",
        "        print(order)\n",
        "        speak(order)\n",
        "        pyperclip.copy(\" \" + order + \" \")\n",
        "        pyautogui.hotkey(\"ctrl\", \"v\")\n",
        "\n",
        "    elif \"room booking\" in command:\n",
        "        # Code to process room booking\n",
        "        booking = \"First plese scanne your passowerd on the scanner \\n now plesse enter the money \\n welcome Your room has been booked. Enjoy your stay!\"\n",
        "        print(booking)\n",
        "        speak(booking)\n",
        "        pyperclip.copy(\" \" + booking + \" \")\n",
        "        pyautogui.hotkey(\"ctrl\", \"v\")\n",
        "\n",
        "    elif \"check in\" in command:\n",
        "        steps = \"Steps to make a call:\\n1. Open the phone application\\n2. Tap on the call button\\n3. Enter the phone number you want to call\\n4. Wait for the call to connect\"\n",
        "        print(steps)\n",
        "        speak(steps)\n",
        "        # Code to process check-in\n",
        "        check_in = \"You have successfully checked in. Welcome to our hotel!\"\n",
        "        print(check_in)\n",
        "        speak(check_in)\n",
        "        pyperclip.copy(\" \" + check_in + \" \")\n",
        "        pyautogui.hotkey(\"ctrl\", \"v\")\n",
        "\n",
        "    else:\n",
        "        # Unknown command\n",
        "        error = \"I'm sorry, I didn't understand your command.\"\n",
        "        print(error)\n",
        "        speak(error)\n",
        "        pyperclip.copy(\" \" + error + \" \")\n",
        "        pyautogui.hotkey(\"ctrl\", \"v\")\n",
        "\n",
        "def listen_and_process():\n",
        "    recognizer = sr.Recognizer()\n",
        "    with sr.Microphone() as mic:\n",
        "        recognizer.adjust_for_ambient_noise(mic, duration=0.2)\n",
        "        audio = recognizer.listen(mic)\n",
        "        try:\n",
        "            command = recognizer.recognize_google(audio, language=\"en-US\")\n",
        "            print(\"Recognized: {}\".format(command))\n",
        "            process_command(command.lower())\n",
        "        except sr.UnknownValueError:\n",
        "            error = \"I'm sorry, I couldn't understand your speech.\"\n",
        "            print(error)\n",
        "            speak(error)\n",
        "            pyperclip.copy(\" \" + error + \" \")\n",
        "            pyautogui.hotkey(\"ctrl\", \"v\")\n"
      ],
      "metadata": {
        "id": "DUWcYzqwatH_"
      },
      "execution_count": null,
      "outputs": []
    },
    {
      "cell_type": "code",
      "source": [
        "# Create a tkinter window\n",
        "root = Tk()\n",
        "root.title('Hotel Self-Service')\n",
        "root.geometry('300x200')\n",
        "\n",
        "myFont = font.Font(size=20)\n",
        "title_font = font.Font(size=16, weight=\"bold\")\n",
        "\n",
        "text = Label(text=\"Hotel Self-Service\")\n",
        "text.place(relx=0.5, rely=0.2, anchor=CENTER)\n",
        "text['font'] = title_font\n",
        "\n",
        "btn = Button(root, text='Start Recording', bd='5', bg='green', activebackground='red', fg='white', command=listen_and_process)\n",
        "btn['font'] = myFont\n",
        "btn.place(relx=0.5, rely=0.6, anchor=CENTER)\n",
        "\n",
        "root.mainloop()"
      ],
      "metadata": {
        "id": "r0ES_bCLavYX"
      },
      "execution_count": null,
      "outputs": []
    }
  ]
}